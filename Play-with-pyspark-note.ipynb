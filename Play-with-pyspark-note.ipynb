{
 "cells": [
  {
   "cell_type": "markdown",
   "metadata": {},
   "source": [
    "* Quit Spark shell: `:quit`\n",
    "* Spark uses the paradigm of lazy evalution, which means operations like `sc.textFile` will not load anything until an action like `count()` is invoked on RDD.\n",
    "* Establish a connection to the Spark cluster, the `SparkSession` object needs some basic information:\n",
    "    * Master URL: This URL can be local[n] for local mode, Spark://[sparkip] for the Spark server, or mesos://path for a Mesos cluster\n",
    "    * Application name: This information is a human-readable application name\n",
    "    * Spark home: This information is the path to Spark on the masters/workers\n",
    "    * JARs: This informaiton is the path to the JARs required for your job\n",
    "    \n",
    "* Prior to Spark 2.0, the three main connection objects were:\n",
    "    * The `SparkContext` object was the connection to a Spark execution environment and created RDDs and others,\n",
    "    * `SQLContext` worked with SparkSQL in the background of SparkContext,\n",
    "    * `HiveContext` interacted with the Hive stores.\n",
    "    \n",
    "* Spark 2.0 introduced Datasets/DataFrames as the main distributed data abstraction interface and the SparkSession object as the entry point to a Spark execution environment. \n",
    "    * you can get SparkContext object form SparkSession object\n",
    "    * you will need SparkCLuster for doing execution environment operations, such as accumulators, addFile, addJars, and so on.\n",
    "    * However, for operations such as reading and creating Datasets, use the SparkSession object.\n",
    "    \n",
    "* SparkSession unifies more than the context, it also unifies the process of reading data in different formats\n",
    "    * Build a SparkSession object (or using the one created in the case of spark-shell/pyspark)\n",
    "    * Use the SparkSession object for reads, creating views for SQL statements, and creating Datasets and DataFrames\n",
    "    * Get the SparkContext object from SparkSession for things such as accumulators, distributing cache files, and working with RDD.\n",
    "    \n",
    "* Rule of thumb to handle data\n",
    "    * Use `SparkContext` and RDDs to handle unstructured data\n",
    "    * Use SparkSession and Datasets/DataFrames for semi-structured and structured data. \n",
    "    \n"
   ]
  },
  {
   "cell_type": "code",
   "execution_count": 3,
   "metadata": {},
   "outputs": [],
   "source": [
    "import findspark\n",
    "findspark.init()"
   ]
  },
  {
   "cell_type": "code",
   "execution_count": 4,
   "metadata": {},
   "outputs": [],
   "source": [
    "from pyspark.sql import SparkSession"
   ]
  },
  {
   "cell_type": "markdown",
   "metadata": {},
   "source": [
    "* Spark SQL architecture\n",
    "\n",
    "![Spark SQL architecture](https://lh3.googleusercontent.com/PZH0OLZGC6QIKEouibc6-XOvBHg2O2Kkbx6-DSe3-zaqkZ2AlypB122inJf6gXq8amOzG8-z0sc3HLPKncpcDPikrS-LLIMQjKrgFvs_IfIv0s7wHbFDq0s3lhsNOnR1ZIa7DgL94Q=w2400) \n"
   ]
  },
  {
   "cell_type": "code",
   "execution_count": null,
   "metadata": {},
   "outputs": [],
   "source": []
  }
 ],
 "metadata": {
  "kernelspec": {
   "display_name": "Python 3",
   "language": "python",
   "name": "python3"
  },
  "language_info": {
   "codemirror_mode": {
    "name": "ipython",
    "version": 3
   },
   "file_extension": ".py",
   "mimetype": "text/x-python",
   "name": "python",
   "nbconvert_exporter": "python",
   "pygments_lexer": "ipython3",
   "version": "3.7.3"
  },
  "toc": {
   "base_numbering": 1,
   "nav_menu": {},
   "number_sections": true,
   "sideBar": true,
   "skip_h1_title": false,
   "title_cell": "Table of Contents",
   "title_sidebar": "Contents",
   "toc_cell": false,
   "toc_position": {},
   "toc_section_display": true,
   "toc_window_display": false
  }
 },
 "nbformat": 4,
 "nbformat_minor": 2
}
